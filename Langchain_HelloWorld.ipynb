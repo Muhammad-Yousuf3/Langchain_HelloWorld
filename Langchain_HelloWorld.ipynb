{
  "nbformat": 4,
  "nbformat_minor": 0,
  "metadata": {
    "colab": {
      "provenance": [],
      "authorship_tag": "ABX9TyNkfNgRK4Z+d2Es7seoYB3o",
      "include_colab_link": true
    },
    "kernelspec": {
      "name": "python3",
      "display_name": "Python 3"
    },
    "language_info": {
      "name": "python"
    }
  },
  "cells": [
    {
      "cell_type": "markdown",
      "metadata": {
        "id": "view-in-github",
        "colab_type": "text"
      },
      "source": [
        "<a href=\"https://colab.research.google.com/github/Muhammad-Yousuf3/Langchain_HelloWorld/blob/main/Langchain_HelloWorld.ipynb\" target=\"_parent\"><img src=\"https://colab.research.google.com/assets/colab-badge.svg\" alt=\"Open In Colab\"/></a>"
      ]
    },
    {
      "cell_type": "markdown",
      "source": [
        "# **Project 1: LangChain Hello World Project**"
      ],
      "metadata": {
        "id": "KVXpj_JVaIJg"
      }
    },
    {
      "cell_type": "code",
      "source": [
        "!pip install -q langchain langchain-google-genai\n",
        "import langchain_google_genai as genai\n",
        "from langchain_google_genai import ChatGoogleGenerativeAI\n",
        "\n",
        "from google.colab import userdata\n",
        "# Retrieve the API key from userdata\n",
        "api_key = userdata.get('GEMINI_API_KEY2')\n",
        "# Configure the Gemini Flash model\n",
        "# Pass the api_key variable, not the string \"GEMINI_API_KEY2\"\n",
        "llm = ChatGoogleGenerativeAI(\n",
        "    api_key=api_key,\n",
        "    model=\"gemini-2.0-flash-exp\",\n",
        "    temperature=0.2,\n",
        "    max_output_tokens=500,\n",
        ")\n",
        "from langchain.prompts import PromptTemplate\n",
        "from langchain.chains import LLMChain\n",
        "\n",
        "# Create a prompt template\n",
        "prompt_template = PromptTemplate(\n",
        "    input_variables=[\"question\"],\n",
        "    template=\"You are a helpful assistant. Answer the following question:\\n\\n{question}\"\n",
        ")\n",
        "\n",
        "# Create the LLM chain\n",
        "chain = LLMChain(llm=llm, prompt=prompt_template)\n",
        "\n",
        "# Run the chain with a sample question\n",
        "question = \"Motivational Ayats of the Quran\"\n",
        "response = chain.run({\"question\": question})\n",
        "\n",
        "print(\"Answer:\", response)"
      ],
      "metadata": {
        "colab": {
          "base_uri": "https://localhost:8080/"
        },
        "id": "yPNDfMaROlcS",
        "outputId": "48c8bc82-d2fa-430b-840b-1c54410bdf74"
      },
      "execution_count": 26,
      "outputs": [
        {
          "output_type": "stream",
          "name": "stdout",
          "text": [
            "Answer: Okay, I can help with that! The Quran is filled with verses that offer guidance, hope, and motivation. Here are some examples of motivational Ayats (verses) from the Quran, categorized by the type of motivation they provide:\n",
            "\n",
            "**1. Motivation Through Hope and Trust in Allah:**\n",
            "\n",
            "*   **\"And when My servants ask you, [O Muhammad], concerning Me - indeed I am near. I respond to the invocation of the supplicant when he calls upon Me. So let them respond to Me [by obedience] and believe in Me that they may be [rightly] guided.\" (Quran 2:186)**\n",
            "    *   **Motivation:** This verse emphasizes Allah's closeness and responsiveness to prayers, encouraging believers to turn to Him in times of need and to have faith in His guidance.\n",
            "*   **\"And do not lose heart and do not grieve, for you will have the upper hand, if you are believers.\" (Quran 3:139)**\n",
            "    *   **Motivation:** This verse provides reassurance and strength to believers, reminding them that their faith will ultimately lead to victory and success.\n",
            "*   **\"Indeed, with hardship [will be] ease.\" (Quran 94:6)**\n",
            "    *   **Motivation:** This verse offers comfort and hope during difficult times, reminding believers that ease and relief will follow hardship. It encourages perseverance and patience.\n",
            "*   **\"And whoever relies upon Allah - then He is sufficient for him.\" (Quran 65:3)**\n",
            "    *   **Motivation:** This verse encourages reliance on Allah, assuring believers that He is enough to provide for their needs and guide them through any challenges.\n",
            "\n",
            "**2. Motivation Through Striving for Good and Avoiding Evil:**\n",
            "\n",
            "*   **\"And that there is not for man except that [good] for which he strives.\" (Quran 53:39)**\n",
            "    *   **Motivation:** This verse emphasizes the importance of effort and striving, reminding believers that they will be rewarded for their actions. It encourages them to work hard and pursue good deeds.\n",
            "*   **\"And hasten to forgiveness from your Lord and a garden as wide as the heavens and earth, prepared for the righteous.\" (Quran 3:133)**\n",
            "    *   **Motivation:** This verse motivates believers to seek forgiveness and strive for righteousness, promising them a great reward in the Hereafter.\n",
            "*\n"
          ]
        }
      ]
    }
  ]
}